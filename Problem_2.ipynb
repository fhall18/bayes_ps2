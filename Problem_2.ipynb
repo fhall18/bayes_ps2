{
 "cells": [
  {
   "cell_type": "markdown",
   "id": "4650e68e-18c2-49d9-8185-8e0035406c76",
   "metadata": {},
   "source": [
    "# Problem 2\n",
    "\n",
    "We can plot the product of the posterior and the loss function (the integrand of the expected value of the loss) for any given $u$. We can see by adjusting $u$ that the optimal decision $\\hat{u}$ occurs when the area under the curve to the left of $u$ is equivalent to the area under the curve to the right of $u$."
   ]
  },
  {
   "cell_type": "code",
   "execution_count": 17,
   "id": "ff5f0171-04a8-404f-971b-e4aee2fe41c1",
   "metadata": {},
   "outputs": [
    {
     "data": {
      "application/vnd.jupyter.widget-view+json": {
       "model_id": "60b9ab24f05340dfa1a0fa9bd1ecc710",
       "version_major": 2,
       "version_minor": 0
      },
      "text/plain": [
       "VBox(children=(FloatSlider(value=2.0, description='k1', max=5.0, min=0.1), FloatSlider(value=1.0, description=…"
      ]
     },
     "metadata": {},
     "output_type": "display_data"
    },
    {
     "data": {
      "application/vnd.jupyter.widget-view+json": {
       "model_id": "04c6d6e290de47ad9d0d55f72e09d9aa",
       "version_major": 2,
       "version_minor": 0
      },
      "text/plain": [
       "Output(layout=Layout(height='375px'))"
      ]
     },
     "metadata": {},
     "output_type": "display_data"
    }
   ],
   "source": [
    "import numpy as np\n",
    "import matplotlib.pyplot as plt\n",
    "from scipy.stats import norm\n",
    "\n",
    "def plot_loss_post(k1,k2,u):\n",
    "    fig,axes = plt.subplots(1,1)\n",
    "\n",
    "    # Plot between -10 and 10 with .001 steps.\n",
    "    x_axis = np.arange(-20, 20, 0.01)\n",
    "\n",
    "    mean = 0\n",
    "    sd = 5\n",
    "\n",
    "    loss = [k1*(u-x)if x<u else k2*(x-u) for x in x_axis]\n",
    "\n",
    "    y = loss*norm.pdf(x_axis,mean,sd)\n",
    "\n",
    "    plt.plot(x_axis,y)\n",
    "    plt.show()\n",
    "    \n",
    "k1_slide=widgets.FloatSlider(min=0.1,max=5,step=0.1,value=2,description='k1',continuous_update=True)\n",
    "k2_slide=widgets.FloatSlider(min=0.1,max=5,step=0.1,value=1,description='k2',continuous_update=True)\n",
    "u_slide=widgets.FloatSlider(min=-15,max=15,step=0.1,value=4,description='u',continuous_update=True)\n",
    "ui=widgets.VBox([k1_slide,k2_slide,u_slide])\n",
    "out=widgets.interactive_output(plot_loss_post, {'k1':k1_slide,'k2':k2_slide,'u':u_slide})\n",
    "out.layout.height = '375px'\n",
    "display(ui,out)"
   ]
  },
  {
   "cell_type": "code",
   "execution_count": null,
   "id": "3b4f6045-24e5-4858-ac0f-0fb5d781928b",
   "metadata": {},
   "outputs": [],
   "source": []
  }
 ],
 "metadata": {
  "kernelspec": {
   "display_name": "Python 3 (ipykernel)",
   "language": "python",
   "name": "python3"
  },
  "language_info": {
   "codemirror_mode": {
    "name": "ipython",
    "version": 3
   },
   "file_extension": ".py",
   "mimetype": "text/x-python",
   "name": "python",
   "nbconvert_exporter": "python",
   "pygments_lexer": "ipython3",
   "version": "3.9.6"
  }
 },
 "nbformat": 4,
 "nbformat_minor": 5
}
