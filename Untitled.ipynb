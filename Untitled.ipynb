{
 "cells": [
  {
   "cell_type": "code",
   "execution_count": 1,
   "id": "e4a4abe7-491e-4bdd-b9c8-28511a62babf",
   "metadata": {},
   "outputs": [],
   "source": [
    "import numpy as np\n",
    "import matplotlib.pyplot as plt\n",
    "from scipy.stats import norm\n",
    "import statistics"
   ]
  },
  {
   "cell_type": "code",
   "execution_count": 61,
   "id": "bd633d99-ecef-49e5-9f2c-4b1cd9e61fd8",
   "metadata": {},
   "outputs": [
    {
     "data": {
      "image/png": "[encoded data removed]",
      "text/plain": [
       "<Figure size 432x288 with 3 Axes>"
      ]
     },
     "metadata": {
      "needs_background": "light"
     },
     "output_type": "display_data"
    }
   ],
   "source": [
    "fig,axes = plt.subplots(3,1)\n",
    "\n",
    "# Plot between -10 and 10 with .001 steps.\n",
    "x_axis = np.arange(-20, 20, 0.01)\n",
    "\n",
    "mean = 0\n",
    "sd = 5\n",
    "\n",
    "split = len(x_axis)//2\n",
    "left = x_axis[:split]\n",
    "right = x_axis[split:]\n",
    "\n",
    "k1,k2 = 1,1\n",
    "\n",
    "y_left = k1*norm.pdf(left,mean, sd)\n",
    "y_right = k2*norm.pdf(right, mean,sd)\n",
    "\n",
    "axes[0].plot(left,y_left)\n",
    "axes[0].plot(right, y_right)\n",
    "axes[0].fill_between(left, y_left,color='lightblue')\n",
    "axes[0].fill_between(right, y_right,color='yellow')\n",
    "axes[0].set_title('k1=k2')\n",
    "max_height = max(max(y_left),max(y_right))\n",
    "axes[0].vlines([0],0,1.2*max_height,linestyle='--',color='purple')\n",
    "\n",
    "k1=1\n",
    "k2=2\n",
    "\n",
    "y_left = k1*norm.pdf(left,mean, sd)\n",
    "y_right = k2*norm.pdf(right, mean,sd)\n",
    "\n",
    "axes[1].plot(left,y_left)\n",
    "axes[1].plot(right, y_right)\n",
    "axes[1].fill_between(left, y_left,color='lightblue')\n",
    "axes[1].fill_between(right, y_right,color='yellow')\n",
    "axes[1].set_title('k1<k2')\n",
    "max_height = max(max(y_left),max(y_right))\n",
    "axes[1].vlines([2],0,1.2*max_height,linestyle='--',color='purple')\n",
    "\n",
    "\n",
    "\n",
    "k1 = 2\n",
    "k2 = 1\n",
    "\n",
    "y_left = k1*norm.pdf(left,mean, sd)\n",
    "y_right = k2*norm.pdf(right, mean,sd)\n",
    "\n",
    "axes[2].plot(left,y_left)\n",
    "axes[2].plot(right, y_right)\n",
    "axes[2].fill_between(left, y_left,color='lightblue')\n",
    "axes[2].fill_between(right, y_right,color='yellow')\n",
    "axes[2].set_title('k1>k2')\n",
    "max_height = max(max(y_left),max(y_right))\n",
    "axes[2].vlines([-2],0,1.2*max_height,linestyle='--',color='purple')\n",
    "\n",
    "\n",
    "\n",
    "fig.suptitle('Weighting an Example Posterior by k1 and k2')\n",
    "fig.tight_layout()\n",
    "plt.savefig('weighted_prob_mass_by_loss_params.png')"
   ]
  },
  {
   "cell_type": "code",
   "execution_count": 4,
   "id": "cf9d5350-c23d-4244-a7ad-eb4ae9d1a9f6",
   "metadata": {},
   "outputs": [],
   "source": []
  },
  {
   "cell_type": "code",
   "execution_count": 11,
   "id": "ff5f0171-04a8-404f-971b-e4aee2fe41c1",
   "metadata": {},
   "outputs": [
    {
     "data": {
      "application/vnd.jupyter.widget-view+json": {
       "model_id": "92982ca7446c43c4bbec2608d4219795",
       "version_major": 2,
       "version_minor": 0
      },
      "text/plain": [
       "VBox(children=(FloatSlider(value=2.0, description='k1', max=5.0, min=0.1), FloatSlider(value=1.0, description=…"
      ]
     },
     "metadata": {},
     "output_type": "display_data"
    },
    {
     "data": {
      "application/vnd.jupyter.widget-view+json": {
       "model_id": "1544dcb3fb0f4dbf88af0286f1c223dc",
       "version_major": 2,
       "version_minor": 0
      },
      "text/plain": [
       "Output(layout=Layout(height='375px'))"
      ]
     },
     "metadata": {},
     "output_type": "display_data"
    }
   ],
   "source": [
    "import ipywidgets as widgets\n",
    "import numpy as np\n",
    "import matplotlib.pyplot as plt\n",
    "from IPython.display import display\n",
    "import numpy as np\n",
    "import matplotlib.pyplot as plt\n",
    "from scipy.stats import norm\n",
    "import statistics\n",
    "    \n",
    "    \n",
    "def plot_loss_post(k1,k2,u):\n",
    "    fig,axes = plt.subplots(1,1)\n",
    "\n",
    "    # Plot between -10 and 10 with .001 steps.\n",
    "    x_axis = np.arange(-20, 20, 0.01)\n",
    "\n",
    "    mean = 0\n",
    "    sd = 5\n",
    "\n",
    "    loss = [k1*(u-x)if x<u else k2*(x-u) for x in x_axis]\n",
    "\n",
    "    y = loss*norm.pdf(x_axis,mean,sd)\n",
    "\n",
    "    plt.plot(x_axis,y)\n",
    "    plt.show()\n",
    "    \n",
    "k1_slide=widgets.FloatSlider(min=0.1,max=5,step=0.1,value=2,description='k1',continuous_update=True)\n",
    "k2_slide=widgets.FloatSlider(min=0.1,max=5,step=0.1,value=1,description='k2',continuous_update=True)\n",
    "u_slide=widgets.FloatSlider(min=-15,max=15,step=0.1,value=4,description='u',continuous_update=True)\n",
    "ui=widgets.VBox([k1_slide,k2_slide,u_slide])\n",
    "out=widgets.interactive_output(plot_loss_post, {'k1':k1_slide,'k2':k2_slide,'u':u_slide})\n",
    "out.layout.height = '375px'\n",
    "display(ui,out)"
   ]
  },
  {
   "cell_type": "code",
   "execution_count": null,
   "id": "3b4f6045-24e5-4858-ac0f-0fb5d781928b",
   "metadata": {},
   "outputs": [],
   "source": []
  }
 ],
 "metadata": {
  "kernelspec": {
   "display_name": "Python 3 (ipykernel)",
   "language": "python",
   "name": "python3"
  },
  "language_info": {
   "codemirror_mode": {
    "name": "ipython",
    "version": 3
   },
   "file_extension": ".py",
   "mimetype": "text/x-python",
   "name": "python",
   "nbconvert_exporter": "python",
   "pygments_lexer": "ipython3",
   "version": "3.9.6"
  }
 },
 "nbformat": 4,
 "nbformat_minor": 5
}
